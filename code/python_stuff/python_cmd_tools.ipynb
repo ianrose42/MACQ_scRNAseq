{
 "cells": [
  {
   "cell_type": "markdown",
   "id": "8f112ead-0d56-49ce-9b19-d4a9472663e0",
   "metadata": {},
   "source": [
    "Command line tools for creating .fastq files with varrying amounts of convolution,\n",
    "to test scRNA-seq based deconvolution methods"
   ]
  },
  {
   "cell_type": "code",
   "execution_count": 1,
   "id": "98f09f4b-1540-4352-a815-599c38147dd6",
   "metadata": {},
   "outputs": [],
   "source": [
    "import os\n",
    "import sys\n",
    "import subprocess\n",
    "from sys import argv"
   ]
  },
  {
   "cell_type": "code",
   "execution_count": 2,
   "id": "21030893-02df-430f-8e60-b4e424e96f11",
   "metadata": {},
   "outputs": [],
   "source": [
    "def count_fastq_reads(fastq_file_path: str):\n",
    "    '''\n",
    "    Returns the number of reads in a fastq or fastq.qz file\n",
    "    given by fastq_file_path\n",
    "    '''\n",
    "    # subprocess.Popen([\"cat\", \"/etc/services\"], stdout=subprocess.PIPE, shell=True)\n",
    "    if fastq_file_path[-2::] == 'gz':\n",
    "        qs = \"zcat {} | wc -l\".format(fastq_file_path)\n",
    "        n_lines = subprocess.run([qs],stdin=subprocess.PIPE,\n",
    "                                 stdout=subprocess.PIPE,\n",
    "                                 shell=True)\n",
    "    else:\n",
    "        qs = \"cat {} | wc -l\".format(fastq_file_path)\n",
    "        n_lines = subprocess.run([qs],stdin=subprocess.PIPE,\n",
    "                                 stdout=subprocess.PIPE,\n",
    "                                 shell=True)\n",
    "    \n",
    "    n_lines = int(n_lines.stdout)\n",
    "    n_reads = int(n_lines) / 4\n",
    "    return n_reads"
   ]
  },
  {
   "cell_type": "code",
   "execution_count": 3,
   "id": "d0bbc86f-2929-4fad-8d80-d1bad2f9f12f",
   "metadata": {},
   "outputs": [],
   "source": [
    "def convolute_raw_data(sampleA: str, sampleB: str,\n",
    "                       out_path: str, fractionContam: float,\n",
    "                       seed=42,\n",
    "                       **kwargs):\n",
    "    \"\"\"\n",
    "    A function to create a convoluted mixture of reads from sampleA\n",
    "    and SampleB. sampleA and sampleB are file paths to forward or \n",
    "    reverse reads for each sample.\n",
    "    The output file will contain the same number of reads as sampleA. \n",
    "    fractionContam indicates the proportion of reads from sampleA \n",
    "    that will be replaced with reads from sampleB.\n",
    "    \n",
    "    Also, one can pass the number of reads in sampleA and sampleB\n",
    "    as kwargs sampleA_reads and sampleB_reads if those quantities \n",
    "    are known, which will improve performance somewhat. \n",
    "    \n",
    "    out_path indicates where the convoluted file will be written. \n",
    "    \"\"\"\n",
    "    # get the number of reads in sampleA\n",
    "    if 'sampleA_reads' not in kwargs and 'sampleB_reads' not in kwargs:\n",
    "        sample_A_reads = count_fastq_reads(sampleA)\n",
    "        sample_B_reads = count_fastq_reads(sampleB)\n",
    "    else:\n",
    "        sample_A_reads = kwargs['sampleA_reads']\n",
    "        sample_B_reads = kwargs['sampleB_reads']\n",
    "        \n",
    "    # calc the number of reads needed for each new file\n",
    "    n_contam_reads = sample_A_reads * fractionContam\n",
    "    n_sampleA_reads = sample_A_reads - n_contam_reads\n",
    "    n_contam_reads = int(n_contam_reads)\n",
    "    n_sampleA_reads = int(n_sampleA_reads)\n",
    "    # rounding can make end file not exactly same as \n",
    "    # original sampleA\n",
    "    # write the convoluted files\n",
    "    cmd_1 = \"seqtk sample -s {} {} {} > {}\"\n",
    "    cmd_1 = cmd_1.format(seed, sampleA, n_sampleA_reads, out_path)\n",
    "    # command to radd contaminating reads\n",
    "    cmd_2 = \"seqtk sample -s {} {} {} >> {}\"\n",
    "    cmd_2 = cmd_2.format(seed, sampleB, n_contam_reads, out_path)\n",
    "    # execute the commands\n",
    "    subprocess.run([cmd_1], shell=True)\n",
    "    subprocess.run([cmd_2], shell=True)\n"
   ]
  },
  {
   "cell_type": "code",
   "execution_count": 4,
   "id": "38049f27-e948-4e79-84ff-6952bb296f1d",
   "metadata": {},
   "outputs": [],
   "source": [
    "# seqtk sample -s 123 read1.fq 100000 > sub_read1.fq"
   ]
  },
  {
   "cell_type": "code",
   "execution_count": 5,
   "id": "1048cd0c-4387-4fbe-9981-bb99fcdb0cc8",
   "metadata": {},
   "outputs": [],
   "source": [
    "#convolute_raw_data(sampleA='spam', sampleB='eggs', out_path='/', fractionContam=42)"
   ]
  },
  {
   "cell_type": "markdown",
   "id": "6371b546-9073-413b-a855-3bf6fc52f0a6",
   "metadata": {},
   "source": [
    "#fractionContam indicates the proportion of reads "
   ]
  }
 ],
 "metadata": {
  "jupytext": {
   "formats": "ipynb,auto:percent"
  },
  "kernelspec": {
   "display_name": "Python 3 (ipykernel)",
   "language": "python",
   "name": "python3"
  },
  "language_info": {
   "codemirror_mode": {
    "name": "ipython",
    "version": 3
   },
   "file_extension": ".py",
   "mimetype": "text/x-python",
   "name": "python",
   "nbconvert_exporter": "python",
   "pygments_lexer": "ipython3",
   "version": "3.9.10"
  }
 },
 "nbformat": 4,
 "nbformat_minor": 5
}
